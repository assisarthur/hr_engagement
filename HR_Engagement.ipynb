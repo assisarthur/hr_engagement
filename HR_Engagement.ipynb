{
 "cells": [
  {
   "cell_type": "markdown",
   "metadata": {
    "slideshow": {
     "slide_type": "slide"
    }
   },
   "source": [
    "# Resource Human Dataset"
   ]
  },
  {
   "cell_type": "code",
   "execution_count": null,
   "metadata": {
    "scrolled": true,
    "slideshow": {
     "slide_type": "slide"
    }
   },
   "outputs": [],
   "source": [
    "import sys\n",
    "!{sys.executable} -m pip install sklearn\n",
    "!{sys.executable} -m pip install pydotplus\n",
    "!{sys.executable} -m pip install graphviz"
   ]
  },
  {
   "cell_type": "code",
   "execution_count": 1,
   "metadata": {
    "scrolled": true,
    "slideshow": {
     "slide_type": "slide"
    }
   },
   "outputs": [
    {
     "data": {
      "text/html": [
       "<script type=\"text/javascript\">window.PlotlyConfig = {MathJaxConfig: 'local'};</script><script type=\"text/javascript\">if (window.MathJax) {MathJax.Hub.Config({SVG: {font: \"STIX-Web\"}});}</script><script>requirejs.config({paths: { 'plotly': ['https://cdn.plot.ly/plotly-latest.min']},});if(!window._Plotly) {require(['plotly'],function(plotly) {window._Plotly=plotly;});}</script>"
      ],
      "text/vnd.plotly.v1+html": [
       "<script type=\"text/javascript\">window.PlotlyConfig = {MathJaxConfig: 'local'};</script><script type=\"text/javascript\">if (window.MathJax) {MathJax.Hub.Config({SVG: {font: \"STIX-Web\"}});}</script><script>requirejs.config({paths: { 'plotly': ['https://cdn.plot.ly/plotly-latest.min']},});if(!window._Plotly) {require(['plotly'],function(plotly) {window._Plotly=plotly;});}</script>"
      ]
     },
     "metadata": {},
     "output_type": "display_data"
    }
   ],
   "source": [
    "import seaborn as sns\n",
    "from sklearn import preprocessing\n",
    "import pandas as pd\n",
    "import numpy as np\n",
    "import matplotlib\n",
    "import matplotlib.pyplot as plt  \n",
    "matplotlib.style.use('ggplot')\n",
    "import plotly\n",
    "import colorsys\n",
    "plt.style.use('seaborn-talk')\n",
    "from mpl_toolkits.mplot3d import Axes3D\n",
    "from __future__ import division\n",
    "import pylab\n",
    "import plotly.plotly as py\n",
    "import plotly.graph_objs as go\n",
    "from matplotlib import colors as mcolors\n",
    "from scipy import stats\n",
    "from sklearn.tree import export_graphviz\n",
    "from sklearn import metrics\n",
    "import types\n",
    "from sklearn.manifold import TSNE\n",
    "from sklearn.decomposition import PCA\n",
    "import plotly.graph_objs as go\n",
    "from plotly.offline import download_plotlyjs, init_notebook_mode, plot, iplot\n",
    "init_notebook_mode(connected=True)\n",
    "import seaborn as sns\n",
    "sns.set(style=\"whitegrid\", palette=\"muted\")\n",
    "current_palette = sns.color_palette()\n",
    "from sklearn.utils.multiclass import unique_labels\n",
    "from tpot import TPOTClassifier\n",
    "from sklearn.model_selection import train_test_split\n",
    "from sklearn.ensemble import RandomForestClassifier\n",
    "from sklearn.tree import DecisionTreeClassifier\n",
    "from sklearn.metrics import confusion_matrix\n",
    "import pydotplus    \n",
    "from IPython.display import Image  \n",
    "from IPython.display import display, HTML\n",
    "%matplotlib inline"
   ]
  },
  {
   "cell_type": "markdown",
   "metadata": {
    "slideshow": {
     "slide_type": "slide"
    }
   },
   "source": [
    "## Importando as bases"
   ]
  },
  {
   "cell_type": "code",
   "execution_count": 2,
   "metadata": {
    "scrolled": true,
    "slideshow": {
     "slide_type": "subslide"
    }
   },
   "outputs": [
    {
     "data": {
      "text/html": [
       "<div>\n",
       "<style scoped>\n",
       "    .dataframe tbody tr th:only-of-type {\n",
       "        vertical-align: middle;\n",
       "    }\n",
       "\n",
       "    .dataframe tbody tr th {\n",
       "        vertical-align: top;\n",
       "    }\n",
       "\n",
       "    .dataframe thead th {\n",
       "        text-align: right;\n",
       "    }\n",
       "</style>\n",
       "<table border=\"1\" class=\"dataframe\">\n",
       "  <thead>\n",
       "    <tr style=\"text-align: right;\">\n",
       "      <th></th>\n",
       "      <th>ID</th>\n",
       "      <th>Name</th>\n",
       "      <th>Department</th>\n",
       "      <th>GEO</th>\n",
       "      <th>Role</th>\n",
       "      <th>Rising_Star</th>\n",
       "      <th>Will_Relocate</th>\n",
       "      <th>Critical</th>\n",
       "      <th>Trending Perf</th>\n",
       "      <th>Talent_Level</th>\n",
       "      <th>...</th>\n",
       "      <th>Emp_Competitive_4</th>\n",
       "      <th>Emp_Competitive_5</th>\n",
       "      <th>Emp_Collaborative_1</th>\n",
       "      <th>Emp_Collaborative_2</th>\n",
       "      <th>Emp_Collaborative_3</th>\n",
       "      <th>Emp_Collaborative_4</th>\n",
       "      <th>Emp_Collaborative_5</th>\n",
       "      <th>Sensor_StepCount</th>\n",
       "      <th>Sensor_Heartbeat(Average/Min)</th>\n",
       "      <th>Sensor_Proximity(1-highest/10-lowest)</th>\n",
       "    </tr>\n",
       "  </thead>\n",
       "  <tbody>\n",
       "    <tr>\n",
       "      <th>0</th>\n",
       "      <td>1</td>\n",
       "      <td>BRADDY</td>\n",
       "      <td>Operations</td>\n",
       "      <td>US</td>\n",
       "      <td>VP</td>\n",
       "      <td>NaN</td>\n",
       "      <td>0</td>\n",
       "      <td>1.0</td>\n",
       "      <td>3</td>\n",
       "      <td>6</td>\n",
       "      <td>...</td>\n",
       "      <td>2</td>\n",
       "      <td>2</td>\n",
       "      <td>2</td>\n",
       "      <td>2</td>\n",
       "      <td>2</td>\n",
       "      <td>1</td>\n",
       "      <td>5</td>\n",
       "      <td>1841</td>\n",
       "      <td>61</td>\n",
       "      <td>9</td>\n",
       "    </tr>\n",
       "    <tr>\n",
       "      <th>1</th>\n",
       "      <td>2</td>\n",
       "      <td>BORST</td>\n",
       "      <td>Sales</td>\n",
       "      <td>UK</td>\n",
       "      <td>Senior Director</td>\n",
       "      <td>NaN</td>\n",
       "      <td>0</td>\n",
       "      <td>NaN</td>\n",
       "      <td>3</td>\n",
       "      <td>6</td>\n",
       "      <td>...</td>\n",
       "      <td>4</td>\n",
       "      <td>1</td>\n",
       "      <td>3</td>\n",
       "      <td>2</td>\n",
       "      <td>5</td>\n",
       "      <td>1</td>\n",
       "      <td>5</td>\n",
       "      <td>1990</td>\n",
       "      <td>90</td>\n",
       "      <td>8</td>\n",
       "    </tr>\n",
       "    <tr>\n",
       "      <th>2</th>\n",
       "      <td>3</td>\n",
       "      <td>BIRDWELL</td>\n",
       "      <td>Finance</td>\n",
       "      <td>France</td>\n",
       "      <td>Senior Director</td>\n",
       "      <td>NaN</td>\n",
       "      <td>0</td>\n",
       "      <td>NaN</td>\n",
       "      <td>3</td>\n",
       "      <td>6</td>\n",
       "      <td>...</td>\n",
       "      <td>2</td>\n",
       "      <td>5</td>\n",
       "      <td>2</td>\n",
       "      <td>2</td>\n",
       "      <td>4</td>\n",
       "      <td>4</td>\n",
       "      <td>4</td>\n",
       "      <td>3193</td>\n",
       "      <td>80</td>\n",
       "      <td>8</td>\n",
       "    </tr>\n",
       "    <tr>\n",
       "      <th>3</th>\n",
       "      <td>4</td>\n",
       "      <td>BENT</td>\n",
       "      <td>Human Resources</td>\n",
       "      <td>China</td>\n",
       "      <td>Senior Director</td>\n",
       "      <td>NaN</td>\n",
       "      <td>0</td>\n",
       "      <td>NaN</td>\n",
       "      <td>3</td>\n",
       "      <td>6</td>\n",
       "      <td>...</td>\n",
       "      <td>5</td>\n",
       "      <td>1</td>\n",
       "      <td>1</td>\n",
       "      <td>2</td>\n",
       "      <td>4</td>\n",
       "      <td>4</td>\n",
       "      <td>1</td>\n",
       "      <td>3248</td>\n",
       "      <td>77</td>\n",
       "      <td>6</td>\n",
       "    </tr>\n",
       "    <tr>\n",
       "      <th>4</th>\n",
       "      <td>5</td>\n",
       "      <td>BAZAN</td>\n",
       "      <td>IT</td>\n",
       "      <td>Korea</td>\n",
       "      <td>Director</td>\n",
       "      <td>NaN</td>\n",
       "      <td>0</td>\n",
       "      <td>NaN</td>\n",
       "      <td>3</td>\n",
       "      <td>6</td>\n",
       "      <td>...</td>\n",
       "      <td>5</td>\n",
       "      <td>3</td>\n",
       "      <td>5</td>\n",
       "      <td>1</td>\n",
       "      <td>2</td>\n",
       "      <td>5</td>\n",
       "      <td>4</td>\n",
       "      <td>3149</td>\n",
       "      <td>80</td>\n",
       "      <td>10</td>\n",
       "    </tr>\n",
       "  </tbody>\n",
       "</table>\n",
       "<p>5 rows × 62 columns</p>\n",
       "</div>"
      ],
      "text/plain": [
       "   ID      Name       Department     GEO             Role  Rising_Star  \\\n",
       "0   1    BRADDY       Operations      US               VP          NaN   \n",
       "1   2     BORST            Sales      UK  Senior Director          NaN   \n",
       "2   3  BIRDWELL          Finance  France  Senior Director          NaN   \n",
       "3   4      BENT  Human Resources   China  Senior Director          NaN   \n",
       "4   5     BAZAN               IT   Korea         Director          NaN   \n",
       "\n",
       "   Will_Relocate  Critical  Trending Perf  Talent_Level  ...  \\\n",
       "0              0       1.0              3             6  ...   \n",
       "1              0       NaN              3             6  ...   \n",
       "2              0       NaN              3             6  ...   \n",
       "3              0       NaN              3             6  ...   \n",
       "4              0       NaN              3             6  ...   \n",
       "\n",
       "   Emp_Competitive_4  Emp_Competitive_5  Emp_Collaborative_1  \\\n",
       "0                  2                  2                    2   \n",
       "1                  4                  1                    3   \n",
       "2                  2                  5                    2   \n",
       "3                  5                  1                    1   \n",
       "4                  5                  3                    5   \n",
       "\n",
       "   Emp_Collaborative_2  Emp_Collaborative_3  Emp_Collaborative_4  \\\n",
       "0                    2                    2                    1   \n",
       "1                    2                    5                    1   \n",
       "2                    2                    4                    4   \n",
       "3                    2                    4                    4   \n",
       "4                    1                    2                    5   \n",
       "\n",
       "   Emp_Collaborative_5  Sensor_StepCount  Sensor_Heartbeat(Average/Min)  \\\n",
       "0                    5              1841                             61   \n",
       "1                    5              1990                             90   \n",
       "2                    4              3193                             80   \n",
       "3                    1              3248                             77   \n",
       "4                    4              3149                             80   \n",
       "\n",
       "   Sensor_Proximity(1-highest/10-lowest)  \n",
       "0                                      9  \n",
       "1                                      8  \n",
       "2                                      8  \n",
       "3                                      6  \n",
       "4                                     10  \n",
       "\n",
       "[5 rows x 62 columns]"
      ]
     },
     "execution_count": 2,
     "metadata": {},
     "output_type": "execute_result"
    }
   ],
   "source": [
    "df = pd.read_csv(\"dataset/HR_Engagement_Sat_Sales_UpdatedV4.0.csv\")\n",
    "df.head()"
   ]
  },
  {
   "cell_type": "markdown",
   "metadata": {
    "slideshow": {
     "slide_type": "slide"
    }
   },
   "source": [
    "## Análise Exploratória"
   ]
  },
  {
   "cell_type": "code",
   "execution_count": 3,
   "metadata": {
    "scrolled": false,
    "slideshow": {
     "slide_type": "subslide"
    }
   },
   "outputs": [
    {
     "data": {
      "text/html": [
       "<div>\n",
       "<style scoped>\n",
       "    .dataframe tbody tr th:only-of-type {\n",
       "        vertical-align: middle;\n",
       "    }\n",
       "\n",
       "    .dataframe tbody tr th {\n",
       "        vertical-align: top;\n",
       "    }\n",
       "\n",
       "    .dataframe thead th {\n",
       "        text-align: right;\n",
       "    }\n",
       "</style>\n",
       "<table border=\"1\" class=\"dataframe\">\n",
       "  <thead>\n",
       "    <tr style=\"text-align: right;\">\n",
       "      <th></th>\n",
       "      <th>ID</th>\n",
       "      <th>Rising_Star</th>\n",
       "      <th>Will_Relocate</th>\n",
       "      <th>Critical</th>\n",
       "      <th>Trending Perf</th>\n",
       "      <th>Talent_Level</th>\n",
       "      <th>Validated_Talent_Level</th>\n",
       "      <th>Percent_Remote</th>\n",
       "      <th>EMP_Sat_OnPrem_1</th>\n",
       "      <th>EMP_Sat_OnPrem_2</th>\n",
       "      <th>...</th>\n",
       "      <th>Emp_Competitive_4</th>\n",
       "      <th>Emp_Competitive_5</th>\n",
       "      <th>Emp_Collaborative_1</th>\n",
       "      <th>Emp_Collaborative_2</th>\n",
       "      <th>Emp_Collaborative_3</th>\n",
       "      <th>Emp_Collaborative_4</th>\n",
       "      <th>Emp_Collaborative_5</th>\n",
       "      <th>Sensor_StepCount</th>\n",
       "      <th>Sensor_Heartbeat(Average/Min)</th>\n",
       "      <th>Sensor_Proximity(1-highest/10-lowest)</th>\n",
       "    </tr>\n",
       "  </thead>\n",
       "  <tbody>\n",
       "    <tr>\n",
       "      <th>count</th>\n",
       "      <td>14999.000000</td>\n",
       "      <td>21.0</td>\n",
       "      <td>14999.000000</td>\n",
       "      <td>480.0</td>\n",
       "      <td>14999.0</td>\n",
       "      <td>14999.0</td>\n",
       "      <td>14999.0</td>\n",
       "      <td>14999.000000</td>\n",
       "      <td>14871.0</td>\n",
       "      <td>14871.000000</td>\n",
       "      <td>...</td>\n",
       "      <td>14999.000000</td>\n",
       "      <td>14999.000000</td>\n",
       "      <td>14999.000000</td>\n",
       "      <td>14999.000000</td>\n",
       "      <td>14999.000000</td>\n",
       "      <td>14999.000000</td>\n",
       "      <td>14999.000000</td>\n",
       "      <td>14999.000000</td>\n",
       "      <td>14999.000000</td>\n",
       "      <td>14999.000000</td>\n",
       "    </tr>\n",
       "    <tr>\n",
       "      <th>mean</th>\n",
       "      <td>7500.000000</td>\n",
       "      <td>1.0</td>\n",
       "      <td>0.499833</td>\n",
       "      <td>1.0</td>\n",
       "      <td>3.0</td>\n",
       "      <td>6.0</td>\n",
       "      <td>6.0</td>\n",
       "      <td>0.617321</td>\n",
       "      <td>3.0</td>\n",
       "      <td>2.731962</td>\n",
       "      <td>...</td>\n",
       "      <td>2.999067</td>\n",
       "      <td>2.987066</td>\n",
       "      <td>2.979532</td>\n",
       "      <td>1.676245</td>\n",
       "      <td>2.998533</td>\n",
       "      <td>3.005200</td>\n",
       "      <td>3.016934</td>\n",
       "      <td>3406.693246</td>\n",
       "      <td>77.967198</td>\n",
       "      <td>6.399360</td>\n",
       "    </tr>\n",
       "    <tr>\n",
       "      <th>std</th>\n",
       "      <td>4329.982679</td>\n",
       "      <td>0.0</td>\n",
       "      <td>0.500017</td>\n",
       "      <td>0.0</td>\n",
       "      <td>0.0</td>\n",
       "      <td>0.0</td>\n",
       "      <td>0.0</td>\n",
       "      <td>0.193841</td>\n",
       "      <td>0.0</td>\n",
       "      <td>0.681369</td>\n",
       "      <td>...</td>\n",
       "      <td>1.406128</td>\n",
       "      <td>1.412314</td>\n",
       "      <td>1.412579</td>\n",
       "      <td>0.865230</td>\n",
       "      <td>1.410058</td>\n",
       "      <td>1.410191</td>\n",
       "      <td>1.412225</td>\n",
       "      <td>1755.742272</td>\n",
       "      <td>7.252848</td>\n",
       "      <td>2.588091</td>\n",
       "    </tr>\n",
       "    <tr>\n",
       "      <th>min</th>\n",
       "      <td>1.000000</td>\n",
       "      <td>1.0</td>\n",
       "      <td>0.000000</td>\n",
       "      <td>1.0</td>\n",
       "      <td>3.0</td>\n",
       "      <td>6.0</td>\n",
       "      <td>6.0</td>\n",
       "      <td>0.400000</td>\n",
       "      <td>3.0</td>\n",
       "      <td>1.000000</td>\n",
       "      <td>...</td>\n",
       "      <td>1.000000</td>\n",
       "      <td>1.000000</td>\n",
       "      <td>1.000000</td>\n",
       "      <td>1.000000</td>\n",
       "      <td>1.000000</td>\n",
       "      <td>1.000000</td>\n",
       "      <td>1.000000</td>\n",
       "      <td>1000.000000</td>\n",
       "      <td>60.000000</td>\n",
       "      <td>1.000000</td>\n",
       "    </tr>\n",
       "    <tr>\n",
       "      <th>25%</th>\n",
       "      <td>3750.500000</td>\n",
       "      <td>1.0</td>\n",
       "      <td>0.000000</td>\n",
       "      <td>1.0</td>\n",
       "      <td>3.0</td>\n",
       "      <td>6.0</td>\n",
       "      <td>6.0</td>\n",
       "      <td>0.400000</td>\n",
       "      <td>3.0</td>\n",
       "      <td>3.000000</td>\n",
       "      <td>...</td>\n",
       "      <td>2.000000</td>\n",
       "      <td>2.000000</td>\n",
       "      <td>2.000000</td>\n",
       "      <td>1.000000</td>\n",
       "      <td>2.000000</td>\n",
       "      <td>2.000000</td>\n",
       "      <td>2.000000</td>\n",
       "      <td>1704.500000</td>\n",
       "      <td>75.000000</td>\n",
       "      <td>5.000000</td>\n",
       "    </tr>\n",
       "    <tr>\n",
       "      <th>50%</th>\n",
       "      <td>7500.000000</td>\n",
       "      <td>1.0</td>\n",
       "      <td>0.000000</td>\n",
       "      <td>1.0</td>\n",
       "      <td>3.0</td>\n",
       "      <td>6.0</td>\n",
       "      <td>6.0</td>\n",
       "      <td>0.800000</td>\n",
       "      <td>3.0</td>\n",
       "      <td>3.000000</td>\n",
       "      <td>...</td>\n",
       "      <td>3.000000</td>\n",
       "      <td>3.000000</td>\n",
       "      <td>3.000000</td>\n",
       "      <td>2.000000</td>\n",
       "      <td>3.000000</td>\n",
       "      <td>3.000000</td>\n",
       "      <td>3.000000</td>\n",
       "      <td>3376.000000</td>\n",
       "      <td>78.000000</td>\n",
       "      <td>7.000000</td>\n",
       "    </tr>\n",
       "    <tr>\n",
       "      <th>75%</th>\n",
       "      <td>11249.500000</td>\n",
       "      <td>1.0</td>\n",
       "      <td>1.000000</td>\n",
       "      <td>1.0</td>\n",
       "      <td>3.0</td>\n",
       "      <td>6.0</td>\n",
       "      <td>6.0</td>\n",
       "      <td>0.800000</td>\n",
       "      <td>3.0</td>\n",
       "      <td>3.000000</td>\n",
       "      <td>...</td>\n",
       "      <td>4.000000</td>\n",
       "      <td>4.000000</td>\n",
       "      <td>4.000000</td>\n",
       "      <td>2.000000</td>\n",
       "      <td>4.000000</td>\n",
       "      <td>4.000000</td>\n",
       "      <td>4.000000</td>\n",
       "      <td>4893.000000</td>\n",
       "      <td>85.000000</td>\n",
       "      <td>8.000000</td>\n",
       "    </tr>\n",
       "    <tr>\n",
       "      <th>max</th>\n",
       "      <td>14999.000000</td>\n",
       "      <td>1.0</td>\n",
       "      <td>1.000000</td>\n",
       "      <td>1.0</td>\n",
       "      <td>3.0</td>\n",
       "      <td>6.0</td>\n",
       "      <td>6.0</td>\n",
       "      <td>1.000000</td>\n",
       "      <td>3.0</td>\n",
       "      <td>3.000000</td>\n",
       "      <td>...</td>\n",
       "      <td>5.000000</td>\n",
       "      <td>5.000000</td>\n",
       "      <td>5.000000</td>\n",
       "      <td>5.000000</td>\n",
       "      <td>5.000000</td>\n",
       "      <td>5.000000</td>\n",
       "      <td>5.000000</td>\n",
       "      <td>8500.000000</td>\n",
       "      <td>90.000000</td>\n",
       "      <td>10.000000</td>\n",
       "    </tr>\n",
       "  </tbody>\n",
       "</table>\n",
       "<p>8 rows × 55 columns</p>\n",
       "</div>"
      ],
      "text/plain": [
       "                 ID  Rising_Star  Will_Relocate  Critical  Trending Perf  \\\n",
       "count  14999.000000         21.0   14999.000000     480.0        14999.0   \n",
       "mean    7500.000000          1.0       0.499833       1.0            3.0   \n",
       "std     4329.982679          0.0       0.500017       0.0            0.0   \n",
       "min        1.000000          1.0       0.000000       1.0            3.0   \n",
       "25%     3750.500000          1.0       0.000000       1.0            3.0   \n",
       "50%     7500.000000          1.0       0.000000       1.0            3.0   \n",
       "75%    11249.500000          1.0       1.000000       1.0            3.0   \n",
       "max    14999.000000          1.0       1.000000       1.0            3.0   \n",
       "\n",
       "       Talent_Level  Validated_Talent_Level  Percent_Remote  EMP_Sat_OnPrem_1  \\\n",
       "count       14999.0                 14999.0    14999.000000           14871.0   \n",
       "mean            6.0                     6.0        0.617321               3.0   \n",
       "std             0.0                     0.0        0.193841               0.0   \n",
       "min             6.0                     6.0        0.400000               3.0   \n",
       "25%             6.0                     6.0        0.400000               3.0   \n",
       "50%             6.0                     6.0        0.800000               3.0   \n",
       "75%             6.0                     6.0        0.800000               3.0   \n",
       "max             6.0                     6.0        1.000000               3.0   \n",
       "\n",
       "       EMP_Sat_OnPrem_2  ...  Emp_Competitive_4  Emp_Competitive_5  \\\n",
       "count      14871.000000  ...       14999.000000       14999.000000   \n",
       "mean           2.731962  ...           2.999067           2.987066   \n",
       "std            0.681369  ...           1.406128           1.412314   \n",
       "min            1.000000  ...           1.000000           1.000000   \n",
       "25%            3.000000  ...           2.000000           2.000000   \n",
       "50%            3.000000  ...           3.000000           3.000000   \n",
       "75%            3.000000  ...           4.000000           4.000000   \n",
       "max            3.000000  ...           5.000000           5.000000   \n",
       "\n",
       "       Emp_Collaborative_1  Emp_Collaborative_2  Emp_Collaborative_3  \\\n",
       "count         14999.000000         14999.000000         14999.000000   \n",
       "mean              2.979532             1.676245             2.998533   \n",
       "std               1.412579             0.865230             1.410058   \n",
       "min               1.000000             1.000000             1.000000   \n",
       "25%               2.000000             1.000000             2.000000   \n",
       "50%               3.000000             2.000000             3.000000   \n",
       "75%               4.000000             2.000000             4.000000   \n",
       "max               5.000000             5.000000             5.000000   \n",
       "\n",
       "       Emp_Collaborative_4  Emp_Collaborative_5  Sensor_StepCount  \\\n",
       "count         14999.000000         14999.000000      14999.000000   \n",
       "mean              3.005200             3.016934       3406.693246   \n",
       "std               1.410191             1.412225       1755.742272   \n",
       "min               1.000000             1.000000       1000.000000   \n",
       "25%               2.000000             2.000000       1704.500000   \n",
       "50%               3.000000             3.000000       3376.000000   \n",
       "75%               4.000000             4.000000       4893.000000   \n",
       "max               5.000000             5.000000       8500.000000   \n",
       "\n",
       "       Sensor_Heartbeat(Average/Min)  Sensor_Proximity(1-highest/10-lowest)  \n",
       "count                   14999.000000                           14999.000000  \n",
       "mean                       77.967198                               6.399360  \n",
       "std                         7.252848                               2.588091  \n",
       "min                        60.000000                               1.000000  \n",
       "25%                        75.000000                               5.000000  \n",
       "50%                        78.000000                               7.000000  \n",
       "75%                        85.000000                               8.000000  \n",
       "max                        90.000000                              10.000000  \n",
       "\n",
       "[8 rows x 55 columns]"
      ]
     },
     "execution_count": 3,
     "metadata": {},
     "output_type": "execute_result"
    }
   ],
   "source": [
    "df.describe()"
   ]
  },
  {
   "cell_type": "code",
   "execution_count": 4,
   "metadata": {
    "scrolled": true
   },
   "outputs": [
    {
     "data": {
      "text/html": [
       "<div>\n",
       "<style scoped>\n",
       "    .dataframe tbody tr th:only-of-type {\n",
       "        vertical-align: middle;\n",
       "    }\n",
       "\n",
       "    .dataframe tbody tr th {\n",
       "        vertical-align: top;\n",
       "    }\n",
       "\n",
       "    .dataframe thead th {\n",
       "        text-align: right;\n",
       "    }\n",
       "</style>\n",
       "<table border=\"1\" class=\"dataframe\">\n",
       "  <thead>\n",
       "    <tr style=\"text-align: right;\">\n",
       "      <th></th>\n",
       "      <th>Percentual Missing</th>\n",
       "    </tr>\n",
       "  </thead>\n",
       "  <tbody>\n",
       "    <tr>\n",
       "      <th>Rising_Star</th>\n",
       "      <td>99.859991</td>\n",
       "    </tr>\n",
       "    <tr>\n",
       "      <th>Critical</th>\n",
       "      <td>96.799787</td>\n",
       "    </tr>\n",
       "    <tr>\n",
       "      <th>CSR Factor</th>\n",
       "      <td>88.579239</td>\n",
       "    </tr>\n",
       "    <tr>\n",
       "      <th>Men_Leave</th>\n",
       "      <td>67.564504</td>\n",
       "    </tr>\n",
       "    <tr>\n",
       "      <th>Women_Leave</th>\n",
       "      <td>49.356624</td>\n",
       "    </tr>\n",
       "    <tr>\n",
       "      <th>EMP_Sat_OnPrem_5</th>\n",
       "      <td>0.853390</td>\n",
       "    </tr>\n",
       "    <tr>\n",
       "      <th>EMP_Sat_OnPrem_4</th>\n",
       "      <td>0.853390</td>\n",
       "    </tr>\n",
       "    <tr>\n",
       "      <th>EMP_Sat_OnPrem_3</th>\n",
       "      <td>0.853390</td>\n",
       "    </tr>\n",
       "    <tr>\n",
       "      <th>EMP_Sat_OnPrem_2</th>\n",
       "      <td>0.853390</td>\n",
       "    </tr>\n",
       "    <tr>\n",
       "      <th>EMP_Sat_OnPrem_1</th>\n",
       "      <td>0.853390</td>\n",
       "    </tr>\n",
       "    <tr>\n",
       "      <th>Name</th>\n",
       "      <td>0.013334</td>\n",
       "    </tr>\n",
       "  </tbody>\n",
       "</table>\n",
       "</div>"
      ],
      "text/plain": [
       "                  Percentual Missing\n",
       "Rising_Star                99.859991\n",
       "Critical                   96.799787\n",
       "CSR Factor                 88.579239\n",
       "Men_Leave                  67.564504\n",
       "Women_Leave                49.356624\n",
       "EMP_Sat_OnPrem_5            0.853390\n",
       "EMP_Sat_OnPrem_4            0.853390\n",
       "EMP_Sat_OnPrem_3            0.853390\n",
       "EMP_Sat_OnPrem_2            0.853390\n",
       "EMP_Sat_OnPrem_1            0.853390\n",
       "Name                        0.013334"
      ]
     },
     "execution_count": 4,
     "metadata": {},
     "output_type": "execute_result"
    }
   ],
   "source": [
    "df_isnull = (df.isnull().sum() / len(df))*100\n",
    "df_isnull = df_isnull.drop(df_isnull[df_isnull ==0].index).sort_values(ascending = False)\n",
    "missing_data = pd.DataFrame({'Percentual Missing' :df_isnull})\n",
    "missing_data"
   ]
  },
  {
   "cell_type": "markdown",
   "metadata": {
    "slideshow": {
     "slide_type": "slide"
    }
   },
   "source": [
    "## Ajuste de features"
   ]
  },
  {
   "cell_type": "code",
   "execution_count": 5,
   "metadata": {
    "scrolled": true
   },
   "outputs": [],
   "source": [
    "df[['Rising_Star', 'Critical']] = df[['Rising_Star', 'Critical']].fillna(value=0)"
   ]
  },
  {
   "cell_type": "code",
   "execution_count": 6,
   "metadata": {
    "scrolled": true
   },
   "outputs": [],
   "source": [
    "df['Leave'] = df[['Women_Leave', 'Men_Leave']].apply(lambda l: l['Men_Leave']\n",
    "                                                     if np.isnan(l['Women_Leave'])\n",
    "                                                     else l['Women_Leave'], axis=1)"
   ]
  },
  {
   "cell_type": "code",
   "execution_count": 7,
   "metadata": {
    "scrolled": true
   },
   "outputs": [],
   "source": [
    "df.drop(['CSR Factor', 'Women_Leave', 'Men_Leave'], axis=1, inplace=True)"
   ]
  },
  {
   "cell_type": "code",
   "execution_count": 8,
   "metadata": {
    "scrolled": true
   },
   "outputs": [],
   "source": [
    "df.dropna(inplace=True)"
   ]
  },
  {
   "cell_type": "markdown",
   "metadata": {
    "slideshow": {
     "slide_type": "slide"
    }
   },
   "source": [
    "### Quantidade de observações"
   ]
  },
  {
   "cell_type": "code",
   "execution_count": 9,
   "metadata": {
    "scrolled": true,
    "slideshow": {
     "slide_type": "-"
    }
   },
   "outputs": [
    {
     "data": {
      "text/plain": [
       "(12353, 60)"
      ]
     },
     "execution_count": 9,
     "metadata": {},
     "output_type": "execute_result"
    }
   ],
   "source": [
    "df.shape"
   ]
  },
  {
   "cell_type": "markdown",
   "metadata": {
    "slideshow": {
     "slide_type": "slide"
    }
   },
   "source": [
    "## Análise da Distribuição dos Cargos dos funcionários"
   ]
  },
  {
   "cell_type": "code",
   "execution_count": 11,
   "metadata": {
    "scrolled": true,
    "slideshow": {
     "slide_type": "-"
    }
   },
   "outputs": [
    {
     "data": {
      "image/png": "[encoded data removed]",
      "text/plain": [
       "<Figure size 1440x360 with 1 Axes>"
      ]
     },
     "metadata": {
      "needs_background": "light"
     },
     "output_type": "display_data"
    }
   ],
   "source": [
    "g = sns.catplot(\"Role\", data=df, aspect=4, kind=\"count\")\n",
    "g.set_xticklabels(rotation=90)\n",
    "g = plt.title(\"Distribuição dos Cargos dos Funcionários\")"
   ]
  },
  {
   "cell_type": "markdown",
   "metadata": {
    "slideshow": {
     "slide_type": "slide"
    }
   },
   "source": [
    "## Insatisfação dos funcionários em relação à cada cargo"
   ]
  },
  {
   "cell_type": "code",
   "execution_count": null,
   "metadata": {
    "slideshow": {
     "slide_type": "-"
    }
   },
   "outputs": [],
   "source": []
  },
  {
   "cell_type": "markdown",
   "metadata": {
    "slideshow": {
     "slide_type": "slide"
    }
   },
   "source": [
    "## Contagem de Funcionários por País"
   ]
  },
  {
   "cell_type": "code",
   "execution_count": 31,
   "metadata": {
    "scrolled": true,
    "slideshow": {
     "slide_type": "-"
    }
   },
   "outputs": [
    {
     "data": {
      "text/plain": [
       "<matplotlib.axes._subplots.AxesSubplot at 0x1b807c2f898>"
      ]
     },
     "execution_count": 31,
     "metadata": {},
     "output_type": "execute_result"
    },
    {
     "data": {
      "image/png": "[encoded data removed]",
      "text/plain": [
       "<matplotlib.figure.Figure at 0x1b807c2f240>"
      ]
     },
     "metadata": {
      "needs_background": "light"
     },
     "output_type": "display_data"
    }
   ],
   "source": [
    "df.GEO.value_counts().plot.bar()"
   ]
  },
  {
   "cell_type": "markdown",
   "metadata": {
    "slideshow": {
     "slide_type": "slide"
    }
   },
   "source": [
    "## Análise de Correlação entre as Features e Target"
   ]
  },
  {
   "cell_type": "code",
   "execution_count": 24,
   "metadata": {},
   "outputs": [],
   "source": [
    "def plotar_correlacao(df):\n",
    "    corr = df.corr(method='spearman')\n",
    "    fig = plt.figure(11)\n",
    "    ax = fig.add_subplot(111)\n",
    "    cax = ax.matshow(corr,cmap='coolwarm', vmin=-1, vmax=1)\n",
    "    fig.colorbar(cax)\n",
    "    ticks = np.arange(0,len(df.columns),1)\n",
    "    ax.set_xticks(ticks)\n",
    "    plt.xticks(rotation=90)\n",
    "    ax.set_yticks(ticks)\n",
    "    ax.set_xticklabels(df.columns)\n",
    "    ax.set_yticklabels(df.columns)\n",
    "    plt.show()"
   ]
  },
  {
   "cell_type": "code",
   "execution_count": 25,
   "metadata": {
    "scrolled": false,
    "slideshow": {
     "slide_type": "slide"
    }
   },
   "outputs": [
    {
     "data": {
      "image/png": "[encoded data removed]",
      "text/plain": [
       "<Figure size 432x288 with 2 Axes>"
      ]
     },
     "metadata": {
      "needs_background": "light"
     },
     "output_type": "display_data"
    }
   ],
   "source": [
    "plotar_correlacao(df)"
   ]
  },
  {
   "cell_type": "markdown",
   "metadata": {
    "slideshow": {
     "slide_type": "slide"
    }
   },
   "source": [
    "### Correlação entre um grupo de features"
   ]
  },
  {
   "cell_type": "code",
   "execution_count": 39,
   "metadata": {
    "scrolled": true,
    "slideshow": {
     "slide_type": "subslide"
    }
   },
   "outputs": [
    {
     "data": {
      "image/png": "[encoded data removed]",
      "text/plain": [
       "<Figure size 432x288 with 2 Axes>"
      ]
     },
     "metadata": {
      "needs_background": "light"
     },
     "output_type": "display_data"
    }
   ],
   "source": [
    "dfcorr = df[[\"EMP_Sat_OnPrem_\"+str(col) for col in range(1,6)]]\n",
    "plotar_correlacao(dfcorr)"
   ]
  },
  {
   "cell_type": "markdown",
   "metadata": {
    "slideshow": {
     "slide_type": "slide"
    }
   },
   "source": [
    "### Reduzir a dimensionalidade do problema"
   ]
  },
  {
   "cell_type": "code",
   "execution_count": 15,
   "metadata": {
    "scrolled": true
   },
   "outputs": [
    {
     "name": "stdout",
     "output_type": "stream",
     "text": [
      "onpremise: [0.97080449]\n",
      "remote: [0.93175926]\n",
      "engagement: [1.]\n"
     ]
    },
    {
     "data": {
      "text/plain": [
       "(12353, 48)"
      ]
     },
     "execution_count": 15,
     "metadata": {},
     "output_type": "execute_result"
    }
   ],
   "source": [
    "cols_reduzir = {'onpremise': [\"EMP_Sat_OnPrem_\"+str(col) for col in range(1,6)],\n",
    "            'remote': [\"EMP_Sat_Remote_\"+str(col) for col in range(1,6)],\n",
    "            'engagement': [\"EMP_Engagement_\"+str(col) for col in range(1,6)]\n",
    "            }\n",
    "pcas = {}\n",
    "for col in cols_reduzir:\n",
    "    pca = PCA(n_components=1)\n",
    "    pcas[col] = pca\n",
    "    pca.fit(df[ cols_reduzir[col] ].values)\n",
    "    print(col +\": \"+ str(pca.explained_variance_ratio_))\n",
    "    df[col] = pca.transform(df[ cols_reduzir[col]].values)\n",
    "    df.drop(cols_reduzir[col], axis=1, inplace=True)\n",
    "    \n",
    "df.shape"
   ]
  },
  {
   "cell_type": "markdown",
   "metadata": {
    "slideshow": {
     "slide_type": "slide"
    }
   },
   "source": [
    "## Quantidade de homens e mulheres"
   ]
  },
  {
   "cell_type": "code",
   "execution_count": 35,
   "metadata": {
    "scrolled": true
   },
   "outputs": [
    {
     "data": {
      "image/png": "[encoded data removed]",
      "text/plain": [
       "<matplotlib.figure.Figure at 0x1b8080816d8>"
      ]
     },
     "metadata": {
      "needs_background": "light"
     },
     "output_type": "display_data"
    }
   ],
   "source": [
    "sns.countplot(df[\"Gender\"])\n",
    "g = plt.title(\"Gênero\")"
   ]
  },
  {
   "cell_type": "code",
   "execution_count": 13,
   "metadata": {
    "scrolled": true,
    "slideshow": {
     "slide_type": "slide"
    }
   },
   "outputs": [
    {
     "data": {
      "text/plain": [
       "Text(0.5,1,'Acidente de Trabalho')"
      ]
     },
     "execution_count": 13,
     "metadata": {},
     "output_type": "execute_result"
    },
    {
     "data": {
      "image/png": "[encoded data removed]",
      "text/plain": [
       "<Figure size 432x288 with 1 Axes>"
      ]
     },
     "metadata": {
      "needs_background": "light"
     },
     "output_type": "display_data"
    }
   ],
   "source": [
    "plt.figure()#figsize=(16,5))\n",
    "sns.countplot('Work_accident', data = df)\n",
    "plt.xticks(rotation = 45)\n",
    "plt.tight_layout()\n",
    "plt.title(\"Acidente de Trabalho\")"
   ]
  },
  {
   "cell_type": "code",
   "execution_count": 14,
   "metadata": {
    "scrolled": true,
    "slideshow": {
     "slide_type": "slide"
    }
   },
   "outputs": [
    {
     "data": {
      "image/png": "[encoded data removed]",
      "text/plain": [
       "<Figure size 432x288 with 1 Axes>"
      ]
     },
     "metadata": {
      "needs_background": "light"
     },
     "output_type": "display_data"
    }
   ],
   "source": [
    "plt.figure()#figsize=(16,5))\n",
    "sns.countplot('left_Company', data = df)\n",
    "plt.xticks(rotation = 45)\n",
    "plt.tight_layout()\n",
    "g = plt.title(\"Demissão\")"
   ]
  },
  {
   "cell_type": "markdown",
   "metadata": {
    "slideshow": {
     "slide_type": "slide"
    }
   },
   "source": [
    "## Criação do Modelo"
   ]
  },
  {
   "cell_type": "markdown",
   "metadata": {
    "slideshow": {
     "slide_type": "subslide"
    }
   },
   "source": [
    "### Definir Feature e Target"
   ]
  },
  {
   "cell_type": "code",
   "execution_count": 18,
   "metadata": {
    "scrolled": true,
    "slideshow": {
     "slide_type": "-"
    }
   },
   "outputs": [],
   "source": [
    "y = df[['Leave']]\n",
    "#y['Leave'] = np.random.permutation(y.Leave)\n",
    "X = df.drop('Leave', axis=1)"
   ]
  },
  {
   "cell_type": "markdown",
   "metadata": {
    "slideshow": {
     "slide_type": "subslide"
    }
   },
   "source": [
    "### Remover features"
   ]
  },
  {
   "cell_type": "code",
   "execution_count": 19,
   "metadata": {
    "scrolled": false
   },
   "outputs": [],
   "source": [
    "X.drop(['ID', 'Name'],axis=1,inplace=True)"
   ]
  },
  {
   "cell_type": "markdown",
   "metadata": {},
   "source": [
    "### Tipos das features"
   ]
  },
  {
   "cell_type": "code",
   "execution_count": 20,
   "metadata": {
    "scrolled": true
   },
   "outputs": [
    {
     "data": {
      "text/plain": [
       "Department                                object\n",
       "GEO                                       object\n",
       "Role                                      object\n",
       "Rising_Star                              float64\n",
       "Will_Relocate                              int64\n",
       "Critical                                 float64\n",
       "Trending Perf                              int64\n",
       "Talent_Level                               int64\n",
       "Validated_Talent_Level                     int64\n",
       "Percent_Remote                           float64\n",
       "EMP_Sat_OnPrem_1                         float64\n",
       "EMP_Sat_OnPrem_2                         float64\n",
       "EMP_Sat_OnPrem_3                         float64\n",
       "EMP_Sat_OnPrem_4                         float64\n",
       "EMP_Sat_OnPrem_5                         float64\n",
       "EMP_Sat_Remote_1                           int64\n",
       "EMP_Sat_Remote_2                           int64\n",
       "EMP_Sat_Remote_3                           int64\n",
       "EMP_Sat_Remote_4                           int64\n",
       "EMP_Sat_Remote_5                           int64\n",
       "EMP_Engagement_1                           int64\n",
       "EMP_Engagement_2                           int64\n",
       "EMP_Engagement_3                           int64\n",
       "EMP_Engagement_4                           int64\n",
       "EMP_Engagement_5                           int64\n",
       "last_evaluation                          float64\n",
       "number_project                             int64\n",
       "average_montly_hours                       int64\n",
       "time_spend_company                         int64\n",
       "Work_accident                              int64\n",
       "left_Company                               int64\n",
       "promotion_last_5years                      int64\n",
       "sales                                     object\n",
       "salary                                    object\n",
       "Gender                                    object\n",
       "LinkedIn_Hits                              int64\n",
       "Emp_Work_Status2                           int64\n",
       "Emp_Work_Status_3                          int64\n",
       "Emp_Work_Status_4                          int64\n",
       "Emp_Work_Status_5                          int64\n",
       "Emp_Identity                               int64\n",
       "Emp_Role                                   int64\n",
       "Emp_Position                               int64\n",
       "Emp_Title                                  int64\n",
       "Emp_Competitive_1                          int64\n",
       "Emp_Competitive_2                          int64\n",
       "Emp_Competitive_3                          int64\n",
       "Emp_Competitive_4                          int64\n",
       "Emp_Competitive_5                          int64\n",
       "Emp_Collaborative_1                        int64\n",
       "Emp_Collaborative_2                        int64\n",
       "Emp_Collaborative_3                        int64\n",
       "Emp_Collaborative_4                        int64\n",
       "Emp_Collaborative_5                        int64\n",
       "Sensor_StepCount                           int64\n",
       "Sensor_Heartbeat(Average/Min)              int64\n",
       "Sensor_Proximity(1-highest/10-lowest)      int64\n",
       "dtype: object"
      ]
     },
     "execution_count": 20,
     "metadata": {},
     "output_type": "execute_result"
    }
   ],
   "source": [
    "X.dtypes"
   ]
  },
  {
   "cell_type": "markdown",
   "metadata": {
    "slideshow": {
     "slide_type": "slide"
    }
   },
   "source": [
    "### Converter de Dados Categóricos para Dados Numéricos"
   ]
  },
  {
   "cell_type": "code",
   "execution_count": 21,
   "metadata": {
    "scrolled": true
   },
   "outputs": [
    {
     "data": {
      "text/plain": [
       "Rising_Star               float64\n",
       "Will_Relocate               int64\n",
       "Critical                  float64\n",
       "Trending Perf               int64\n",
       "Talent_Level                int64\n",
       "Validated_Talent_Level      int64\n",
       "Percent_Remote            float64\n",
       "EMP_Sat_OnPrem_1          float64\n",
       "EMP_Sat_OnPrem_2          float64\n",
       "EMP_Sat_OnPrem_3          float64\n",
       "EMP_Sat_OnPrem_4          float64\n",
       "EMP_Sat_OnPrem_5          float64\n",
       "EMP_Sat_Remote_1            int64\n",
       "EMP_Sat_Remote_2            int64\n",
       "EMP_Sat_Remote_3            int64\n",
       "EMP_Sat_Remote_4            int64\n",
       "EMP_Sat_Remote_5            int64\n",
       "EMP_Engagement_1            int64\n",
       "EMP_Engagement_2            int64\n",
       "EMP_Engagement_3            int64\n",
       "EMP_Engagement_4            int64\n",
       "EMP_Engagement_5            int64\n",
       "last_evaluation           float64\n",
       "number_project              int64\n",
       "average_montly_hours        int64\n",
       "time_spend_company          int64\n",
       "Work_accident               int64\n",
       "left_Company                int64\n",
       "promotion_last_5years       int64\n",
       "LinkedIn_Hits               int64\n",
       "                           ...   \n",
       "GEO_China                   uint8\n",
       "GEO_Colombia                uint8\n",
       "GEO_France                  uint8\n",
       "GEO_Japan                   uint8\n",
       "GEO_Korea                   uint8\n",
       "GEO_Turkey                  uint8\n",
       "GEO_UK                      uint8\n",
       "GEO_US                      uint8\n",
       "Role_Director               uint8\n",
       "Role_Level 1                uint8\n",
       "Role_Level 2-4              uint8\n",
       "Role_Manager                uint8\n",
       "Role_Senior Director        uint8\n",
       "Role_Senior Manager         uint8\n",
       "Role_VP                     uint8\n",
       "sales_IT                    uint8\n",
       "sales_RandD                 uint8\n",
       "sales_accounting            uint8\n",
       "sales_hr                    uint8\n",
       "sales_management            uint8\n",
       "sales_marketing             uint8\n",
       "sales_product_mng           uint8\n",
       "sales_sales                 uint8\n",
       "sales_support               uint8\n",
       "sales_technical             uint8\n",
       "salary_high                 uint8\n",
       "salary_low                  uint8\n",
       "salary_medium               uint8\n",
       "Gender_F                    uint8\n",
       "Gender_M                    uint8\n",
       "Length: 88, dtype: object"
      ]
     },
     "execution_count": 21,
     "metadata": {},
     "output_type": "execute_result"
    }
   ],
   "source": [
    "for col in X.dtypes.index:\n",
    "    if(X.dtypes[col] == np.dtype):\n",
    "        dummies = pd.get_dummies(X[col])\n",
    "        for d in dummies.keys():\n",
    "            X[col+\"_\"+d] = dummies[d]\n",
    "        X.drop(col, axis=1, inplace=True)\n",
    "\n",
    "X.dtypes"
   ]
  },
  {
   "cell_type": "markdown",
   "metadata": {
    "slideshow": {
     "slide_type": "slide"
    }
   },
   "source": [
    "### Divisão da base em: Treino, Teste e Validação"
   ]
  },
  {
   "cell_type": "code",
   "execution_count": 56,
   "metadata": {
    "scrolled": true
   },
   "outputs": [
    {
     "name": "stdout",
     "output_type": "stream",
     "text": [
      "Quantidade Observações:\n",
      "Treino: 7905\n",
      "Teste: 2471\n",
      "Validação: 1977\n"
     ]
    }
   ],
   "source": [
    "X_train, X_test, y_train, y_test = train_test_split(X, y, test_size=0.2, random_state=1)\n",
    "\n",
    "X_train, X_val, y_train, y_val = train_test_split(X_train, y_train, test_size=0.2, random_state=1)\n",
    "\n",
    "print(\"Quantidade Observações:\\nTreino: {tr}\\nTeste: {te}\\nValidação: {v}\".format(tr = X_train.shape[0],\n",
    "                                                                                 te = X_test.shape[0],\n",
    "                                                                                 v = X_val.shape[0]))"
   ]
  },
  {
   "cell_type": "markdown",
   "metadata": {
    "slideshow": {
     "slide_type": "slide"
    }
   },
   "source": [
    "### Treinamento"
   ]
  },
  {
   "cell_type": "code",
   "execution_count": 53,
   "metadata": {
    "scrolled": true,
    "slideshow": {
     "slide_type": "skip"
    }
   },
   "outputs": [],
   "source": [
    "#from dask.distributed import Client\n",
    "#client = Client(n_workers=4, threads_per_worker=1)\n",
    "#client"
   ]
  },
  {
   "cell_type": "code",
   "execution_count": 57,
   "metadata": {
    "scrolled": true
   },
   "outputs": [],
   "source": [
    "tp = TPOTClassifier(\n",
    "    generations=2,\n",
    "    population_size=10,\n",
    "    cv=2,\n",
    "    n_jobs=-1,\n",
    "    random_state=0,\n",
    "    verbosity=0,\n",
    "    #use_dask=True\n",
    ")"
   ]
  },
  {
   "cell_type": "code",
   "execution_count": 59,
   "metadata": {
    "scrolled": true,
    "slideshow": {
     "slide_type": "subslide"
    }
   },
   "outputs": [
    {
     "name": "stdout",
     "output_type": "stream",
     "text": [
      "Warning: xgboost.XGBClassifier is not available and will not be used by TPOT.\n"
     ]
    },
    {
     "data": {
      "text/plain": [
       "TPOTClassifier(config_dict=None, crossover_rate=0.1, cv=2,\n",
       "        disable_update_check=False, early_stop=None, generations=2,\n",
       "        max_eval_time_mins=5, max_time_mins=None, memory=None,\n",
       "        mutation_rate=0.9, n_jobs=-1, offspring_size=None,\n",
       "        periodic_checkpoint_folder=None, population_size=10,\n",
       "        random_state=0, scoring=None, subsample=1.0, use_dask=False,\n",
       "        verbosity=0, warm_start=False)"
      ]
     },
     "execution_count": 59,
     "metadata": {},
     "output_type": "execute_result"
    }
   ],
   "source": [
    "tp.fit(X_train, y_train.Leave.ravel())"
   ]
  },
  {
   "cell_type": "code",
   "execution_count": 60,
   "metadata": {
    "scrolled": false,
    "slideshow": {
     "slide_type": "subslide"
    }
   },
   "outputs": [
    {
     "name": "stdout",
     "output_type": "stream",
     "text": [
      "Score: 1.0\n"
     ]
    },
    {
     "data": {
      "text/html": [
       "<div style=\"display: flex; justify-content: row;\">\n",
       "    <img src=\"https://media.giphy.com/media/kxei1ibnxITFUvvtJU/giphy.gif\">\n",
       "</div>"
      ],
      "text/plain": [
       "<IPython.core.display.HTML object>"
      ]
     },
     "execution_count": 60,
     "metadata": {},
     "output_type": "execute_result"
    }
   ],
   "source": [
    "print(\"Score: \"+str(tp.score(X_test, y_test.Leave.ravel())))\n",
    "\n",
    "HTML('''<div style=\"display: flex; justify-content: row;\">\n",
    "    <img src=\"https://media.giphy.com/media/kxei1ibnxITFUvvtJU/giphy.gif\">\n",
    "</div>''')"
   ]
  },
  {
   "cell_type": "markdown",
   "metadata": {
    "slideshow": {
     "slide_type": "slide"
    }
   },
   "source": [
    "### Exportando o pipeline gerado pelo TPOT"
   ]
  },
  {
   "cell_type": "code",
   "execution_count": 61,
   "metadata": {
    "scrolled": true,
    "slideshow": {
     "slide_type": "-"
    }
   },
   "outputs": [
    {
     "name": "stdout",
     "output_type": "stream",
     "text": [
      "import numpy as np\n",
      "import pandas as pd\n",
      "from sklearn.model_selection import train_test_split\n",
      "from sklearn.naive_bayes import GaussianNB\n",
      "\n",
      "# NOTE: Make sure that the class is labeled 'target' in the data file\n",
      "tpot_data = pd.read_csv('PATH/TO/DATA/FILE', sep='COLUMN_SEPARATOR', dtype=np.float64)\n",
      "features = tpot_data.drop('target', axis=1).values\n",
      "training_features, testing_features, training_target, testing_target = \\\n",
      "            train_test_split(features, tpot_data['target'].values, random_state=0)\n",
      "\n",
      "# Average CV score on the training set was:1.0\n",
      "exported_pipeline = GaussianNB()\n",
      "\n",
      "exported_pipeline.fit(training_features, training_target)\n",
      "results = exported_pipeline.predict(testing_features)\n",
      "\n"
     ]
    }
   ],
   "source": [
    "tp.export('pipeline.py')\n",
    "\n",
    "with open('pipeline.py') as pipe:\n",
    "    print(\"\".join(pipe.readlines()))"
   ]
  },
  {
   "cell_type": "markdown",
   "metadata": {
    "slideshow": {
     "slide_type": "slide"
    }
   },
   "source": [
    "### Construindo o modelo gerado pelo TPOT"
   ]
  },
  {
   "cell_type": "code",
   "execution_count": 36,
   "metadata": {
    "scrolled": true
   },
   "outputs": [],
   "source": [
    "rf = RandomForestClassifier(bootstrap=True, \n",
    "                               criterion=\"entropy\", \n",
    "                               max_features=0.15000000000000002, \n",
    "                               min_samples_leaf=1, \n",
    "                               min_samples_split=14, \n",
    "                               n_estimators=100)"
   ]
  },
  {
   "cell_type": "code",
   "execution_count": 37,
   "metadata": {
    "scrolled": true
   },
   "outputs": [],
   "source": [
    "rf.fit(X_train, y_train.Leave.ravel())\n",
    "y_pred_valid = rf.predict(X_val)\n",
    "y_pred_train = rf.predict(X_train)\n",
    "y_pred_test = rf.predict(X_test)"
   ]
  },
  {
   "cell_type": "code",
   "execution_count": 38,
   "metadata": {
    "scrolled": true,
    "slideshow": {
     "slide_type": "slide"
    }
   },
   "outputs": [
    {
     "data": {
      "text/plain": [
       "<matplotlib.axes._subplots.AxesSubplot at 0x1df236d54e0>"
      ]
     },
     "execution_count": 38,
     "metadata": {},
     "output_type": "execute_result"
    },
    {
     "data": {
      "image/png": "[encoded data removed]",
      "text/plain": [
       "<Figure size 432x288 with 1 Axes>"
      ]
     },
     "metadata": {
      "needs_background": "light"
     },
     "output_type": "display_data"
    }
   ],
   "source": [
    "importance = pd.DataFrame({'features': list(X_train.columns), 'importance': list(rf.feature_importances_)})\n",
    "importance.sort_values(by='importance', ascending=False).head(10).plot.barh(x='features')"
   ]
  },
  {
   "cell_type": "markdown",
   "metadata": {
    "slideshow": {
     "slide_type": "slide"
    }
   },
   "source": [
    "## Correlação entre a carga horária de trabalho do funcionário e o Target por sexo"
   ]
  },
  {
   "cell_type": "code",
   "execution_count": 39,
   "metadata": {
    "scrolled": false
   },
   "outputs": [
    {
     "data": {
      "text/html": [
       "<div>\n",
       "<style scoped>\n",
       "    .dataframe tbody tr th:only-of-type {\n",
       "        vertical-align: middle;\n",
       "    }\n",
       "\n",
       "    .dataframe tbody tr th {\n",
       "        vertical-align: top;\n",
       "    }\n",
       "\n",
       "    .dataframe thead th {\n",
       "        text-align: right;\n",
       "    }\n",
       "</style>\n",
       "<table border=\"1\" class=\"dataframe\">\n",
       "  <thead>\n",
       "    <tr style=\"text-align: right;\">\n",
       "      <th></th>\n",
       "      <th>average_montly_hours</th>\n",
       "      <th>Leave</th>\n",
       "    </tr>\n",
       "  </thead>\n",
       "  <tbody>\n",
       "    <tr>\n",
       "      <th>average_montly_hours</th>\n",
       "      <td>1.000000</td>\n",
       "      <td>0.765215</td>\n",
       "    </tr>\n",
       "    <tr>\n",
       "      <th>Leave</th>\n",
       "      <td>0.765215</td>\n",
       "      <td>1.000000</td>\n",
       "    </tr>\n",
       "  </tbody>\n",
       "</table>\n",
       "</div>"
      ],
      "text/plain": [
       "                      average_montly_hours     Leave\n",
       "average_montly_hours              1.000000  0.765215\n",
       "Leave                             0.765215  1.000000"
      ]
     },
     "execution_count": 39,
     "metadata": {},
     "output_type": "execute_result"
    }
   ],
   "source": [
    "corr = (df[df['Gender']=='F'])[['average_montly_hours', 'Leave']].corr()\n",
    "corr"
   ]
  },
  {
   "cell_type": "code",
   "execution_count": 40,
   "metadata": {
    "scrolled": true
   },
   "outputs": [
    {
     "data": {
      "text/html": [
       "<div>\n",
       "<style scoped>\n",
       "    .dataframe tbody tr th:only-of-type {\n",
       "        vertical-align: middle;\n",
       "    }\n",
       "\n",
       "    .dataframe tbody tr th {\n",
       "        vertical-align: top;\n",
       "    }\n",
       "\n",
       "    .dataframe thead th {\n",
       "        text-align: right;\n",
       "    }\n",
       "</style>\n",
       "<table border=\"1\" class=\"dataframe\">\n",
       "  <thead>\n",
       "    <tr style=\"text-align: right;\">\n",
       "      <th></th>\n",
       "      <th>average_montly_hours</th>\n",
       "      <th>Leave</th>\n",
       "    </tr>\n",
       "  </thead>\n",
       "  <tbody>\n",
       "    <tr>\n",
       "      <th>average_montly_hours</th>\n",
       "      <td>1.000000</td>\n",
       "      <td>-0.035247</td>\n",
       "    </tr>\n",
       "    <tr>\n",
       "      <th>Leave</th>\n",
       "      <td>-0.035247</td>\n",
       "      <td>1.000000</td>\n",
       "    </tr>\n",
       "  </tbody>\n",
       "</table>\n",
       "</div>"
      ],
      "text/plain": [
       "                      average_montly_hours     Leave\n",
       "average_montly_hours              1.000000 -0.035247\n",
       "Leave                            -0.035247  1.000000"
      ]
     },
     "execution_count": 40,
     "metadata": {},
     "output_type": "execute_result"
    }
   ],
   "source": [
    "corr = (df[df['Gender']=='M'])[['average_montly_hours', 'Leave']].corr()\n",
    "corr"
   ]
  },
  {
   "cell_type": "markdown",
   "metadata": {
    "slideshow": {
     "slide_type": "slide"
    }
   },
   "source": [
    "### Matriz de Confusão"
   ]
  },
  {
   "cell_type": "code",
   "execution_count": 44,
   "metadata": {
    "scrolled": true,
    "slideshow": {
     "slide_type": "skip"
    }
   },
   "outputs": [],
   "source": [
    "def plot_confusion_matrix(y_true, y_pred, classes,\n",
    "                          normalize=False,\n",
    "                          title=None,\n",
    "                          cmap=plt.cm.Blues):\n",
    "    \"\"\"\n",
    "    This function prints and plots the confusion matrix.\n",
    "    Normalization can be applied by setting `normalize=True`.\n",
    "    \"\"\"\n",
    "    if not title:\n",
    "        if normalize:\n",
    "            title = 'Normalized confusion matrix'\n",
    "        else:\n",
    "            title = 'Confusion matrix, without normalization'\n",
    "\n",
    "    # Compute confusion matrix\n",
    "    cm = confusion_matrix(y_true, y_pred)\n",
    "    # Only use the labels that appear in the data\n",
    "    #classes = classes[unique_labels(y_true, y_pred)]\n",
    "    if normalize:\n",
    "        cm = cm.astype('float') / cm.sum(axis=1)[:, np.newaxis]\n",
    "        print(\"Normalized confusion matrix\")\n",
    "    else:\n",
    "        print('Confusion matrix, without normalization')\n",
    "\n",
    "    print(cm)\n",
    "\n",
    "    fig, ax = plt.subplots()\n",
    "    im = ax.imshow(cm, interpolation='nearest', cmap=cmap)\n",
    "    ax.figure.colorbar(im, ax=ax)\n",
    "    # We want to show all ticks...\n",
    "    ax.set(xticks=np.arange(cm.shape[1]),\n",
    "           yticks=np.arange(cm.shape[0]),\n",
    "           # ... and label them with the respective list entries\n",
    "           xticklabels=classes, yticklabels=classes,\n",
    "           title=title,\n",
    "           ylabel='True label',\n",
    "           xlabel='Predicted label')\n",
    "\n",
    "    # Rotate the tick labels and set their alignment.\n",
    "    plt.setp(ax.get_xticklabels(), rotation=45, ha=\"right\",\n",
    "             rotation_mode=\"anchor\")\n",
    "\n",
    "    # Loop over data dimensions and create text annotations.\n",
    "    fmt = '.2f' if normalize else 'd'\n",
    "    thresh = cm.max() / 2.\n",
    "    for i in range(cm.shape[0]):\n",
    "        for j in range(cm.shape[1]):\n",
    "            ax.text(j, i, format(cm[i, j], fmt),\n",
    "                    ha=\"center\", va=\"center\",\n",
    "                    color=\"white\" if cm[i, j] > thresh else \"black\")\n",
    "    fig.tight_layout()\n",
    "    return ax\n",
    "\n",
    "\n",
    "np.set_printoptions(precision=3)"
   ]
  },
  {
   "cell_type": "code",
   "execution_count": 42,
   "metadata": {
    "scrolled": true,
    "slideshow": {
     "slide_type": "subslide"
    }
   },
   "outputs": [
    {
     "name": "stdout",
     "output_type": "stream",
     "text": [
      "Confusion matrix, without normalization\n",
      "[[ 426    0]\n",
      " [   0 1551]]\n",
      "Confusion matrix, without normalization\n",
      "[[ 569    0]\n",
      " [   0 1902]]\n"
     ]
    },
    {
     "data": {
      "image/png": "[encoded data removed]",
      "text/plain": [
       "<Figure size 432x288 with 2 Axes>"
      ]
     },
     "metadata": {
      "needs_background": "light"
     },
     "output_type": "display_data"
    },
    {
     "data": {
      "image/png": "[encoded data removed]",
      "text/plain": [
       "<Figure size 432x288 with 2 Axes>"
      ]
     },
     "metadata": {
      "needs_background": "light"
     },
     "output_type": "display_data"
    }
   ],
   "source": [
    "\n",
    "# Plot non-normalized confusion matrix\n",
    "plot_confusion_matrix(y_val.Leave, y_pred_valid, normalize=False, classes=['Não', 'Sim'],\n",
    "                      title='Matriz de Confusão: Base de Validação')\n",
    "\n",
    "plot_confusion_matrix(y_test.Leave, y_pred_test, normalize=False, classes=['Não', 'Sim'],\n",
    "                      title='Matriz de Confusão: Base de Teste')\n",
    "\n",
    "plt.show()"
   ]
  },
  {
   "cell_type": "markdown",
   "metadata": {
    "slideshow": {
     "slide_type": "slide"
    }
   },
   "source": [
    "### Árvore de Decisão"
   ]
  },
  {
   "cell_type": "code",
   "execution_count": 63,
   "metadata": {
    "scrolled": true,
    "slideshow": {
     "slide_type": "subslide"
    }
   },
   "outputs": [
    {
     "data": {
      "image/png": "[encoded data removed]",
      "text/plain": [
       "<IPython.core.display.Image object>"
      ]
     },
     "execution_count": 63,
     "metadata": {},
     "output_type": "execute_result"
    }
   ],
   "source": [
    "tree = DecisionTreeClassifier(max_depth=4, min_samples_leaf = 50, random_state=42)\n",
    "tree.fit(X_train, y_train.Leave.ravel())\n",
    "dot_data = export_graphviz(tree, out_file=None, \n",
    "                                feature_names=list(X_train.columns),  \n",
    "                                class_names=['Não', 'Sim'])\n",
    "graph = pydotplus.graph_from_dot_data(dot_data)  \n",
    "Image(graph.create_png())"
   ]
  },
  {
   "cell_type": "markdown",
   "metadata": {
    "slideshow": {
     "slide_type": "slide"
    }
   },
   "source": [
    "## Conclusão\n",
    "\n",
    "### Perfil dos funcionários (as) que deixaram a empresa:\n",
    "\n",
    "* Homens e mulheres que trabalham em média mais do que 160 horas mensais e que avaliaram com menos de 2.5 seu sentimento em relação ao cargo.\n",
    "\n",
    "* Mulheres que trabalham em média mais do que 160 horas mensais e que avaliaram mais do que 2.5 seu sentimento em relação ao cargo.\n",
    "\n",
    "* Homens que trabalham em média menos do que 160 horas mensais e que avaliaram seu sentimento em relação ao cargo com menos de 2.5."
   ]
  },
  {
   "cell_type": "markdown",
   "metadata": {
    "slideshow": {
     "slide_type": "subslide"
    }
   },
   "source": [
    "### Logo:\n",
    "\n",
    "Independentimente do sexo, se a pessoa não se sente bem em relação ao cargo e trabalha em média mais do que 160hs mensais ela deixará a empresa. Mulheres podem se sentir bem em relação ao cargo, mas exceder este tempo também faz com que elas deixem a empresa. \n",
    "\n",
    "Os homens mesmo trabalhando menos de 160 horas mensais se estiverem insatifeitos com seus cargos deixam a empresa."
   ]
  },
  {
   "cell_type": "markdown",
   "metadata": {
    "slideshow": {
     "slide_type": "slide"
    }
   },
   "source": [
    "# The end"
   ]
  }
 ],
 "metadata": {
  "celltoolbar": "Slideshow",
  "kernelspec": {
   "display_name": "Python 3",
   "language": "python",
   "name": "python3"
  },
  "language_info": {
   "codemirror_mode": {
    "name": "ipython",
    "version": 3
   },
   "file_extension": ".py",
   "mimetype": "text/x-python",
   "name": "python",
   "nbconvert_exporter": "python",
   "pygments_lexer": "ipython3",
   "version": "3.6.4"
  }
 },
 "nbformat": 4,
 "nbformat_minor": 2
}
